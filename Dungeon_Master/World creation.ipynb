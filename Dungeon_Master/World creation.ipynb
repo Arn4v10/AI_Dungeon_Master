{
 "cells": [
  {
   "cell_type": "markdown",
   "metadata": {},
   "source": [
    "### Creating World"
   ]
  },
  {
   "cell_type": "code",
   "execution_count": 15,
   "metadata": {},
   "outputs": [],
   "source": [
    "system_prompt = f\"\"\"\n",
    "Your job is to help create interesting fantasy worlds that \\\n",
    "players would love to play in.\n",
    "Instructions:\n",
    "- Only generate in plain text without formatting.\n",
    "- Use simple clear language without being flowery.\n",
    "- You must stay below 3-5 sentences for each description.\n",
    "\"\"\""
   ]
  },
  {
   "cell_type": "code",
   "execution_count": 16,
   "metadata": {},
   "outputs": [],
   "source": [
    "world_prompt = f\"\"\"\n",
    "Generate a creative description for a unique fantasy world with an\n",
    "interesting concept around cities build on the backs of massive beasts.\n",
    "\n",
    "Output content in the form:\n",
    "World Name: <WORLD NAME>\n",
    "World Description: <WORLD DESCRIPTION>\n",
    "\n",
    "World Name:\"\"\"\n"
   ]
  },
  {
   "cell_type": "code",
   "execution_count": null,
   "metadata": {},
   "outputs": [],
   "source": [
    "from huggingface_hub import login\n",
    "login()"
   ]
  },
  {
   "cell_type": "code",
   "execution_count": null,
   "metadata": {},
   "outputs": [],
   "source": [
    "import transformers\n",
    "import torch\n",
    "\n",
    "model_id = 'meta-llama/Llama-3.2-3B-Instruct'\n",
    "\n",
    "pipeline = transformers.pipeline(\n",
    "    \"text-generation\",\n",
    "    model=model_id,\n",
    "    model_kwargs={\"torch_dtype\": torch.bfloat16},\n",
    "    device_map= 0,\n",
    ")\n",
    "\n",
    "messages = [\n",
    "    {\"role\": \"system\", \"content\": system_prompt},\n",
    "    {\"role\": \"user\", \"content\": world_prompt},\n",
    "]\n",
    "\n",
    "outputs = pipeline(\n",
    "    messages,\n",
    "    max_new_tokens=256,\n",
    ")\n",
    "\n",
    "\n"
   ]
  },
  {
   "cell_type": "code",
   "execution_count": null,
   "metadata": {},
   "outputs": [],
   "source": [
    "world_output = outputs[0][\"generated_text\"][-1]\n",
    "world_output = world_output['content']\n",
    "print(world_output)"
   ]
  },
  {
   "cell_type": "code",
   "execution_count": 20,
   "metadata": {},
   "outputs": [],
   "source": [
    "world_output = world_output.strip()\n",
    "world = {\n",
    "    \"name\": world_output.split('\\n')[0].strip()\n",
    "    .replace('World Name: ', ''),\n",
    "    \"description\": '\\n'.join(world_output.split('\\n')[1:])\n",
    "    .replace('World Description:', '').strip()\n",
    "}"
   ]
  },
  {
   "cell_type": "code",
   "execution_count": null,
   "metadata": {},
   "outputs": [],
   "source": [
    "print(world)"
   ]
  },
  {
   "cell_type": "markdown",
   "metadata": {},
   "source": [
    "### Generating Kingdoms"
   ]
  },
  {
   "cell_type": "code",
   "execution_count": 22,
   "metadata": {},
   "outputs": [],
   "source": [
    "kingdom_prompt = f\"\"\"\n",
    "Create 2 different kingdoms for a fantasy world.\n",
    "For each kingdom generate a description based on the world it's in. \\\n",
    "Describe important leaders, cultures, history of the kingdom.\\\n",
    "\n",
    "Output content in the form:\n",
    "Kingdom 1 Name: <KINGDOM NAME>\n",
    "Kingdom 1 Description: <KINGDOM DESCRIPTION>\n",
    "Kingdom 2 Name: <KINGDOM NAME>\n",
    "Kingdom 2 Description: <KINGDOM DESCRIPTION>\n",
    "\n",
    "World Name: {world['name']}\n",
    "World Description: {world['description']}\n",
    "\n",
    "Kingdom 1\"\"\"\n"
   ]
  },
  {
   "cell_type": "code",
   "execution_count": null,
   "metadata": {},
   "outputs": [],
   "source": [
    "import torch\n",
    "import gc\n",
    "\n",
    "# After each generation step\n",
    "torch.cuda.empty_cache()\n",
    "gc.collect()\n"
   ]
  },
  {
   "cell_type": "code",
   "execution_count": null,
   "metadata": {},
   "outputs": [],
   "source": [
    "\n",
    "messages = [\n",
    "    {\"role\": \"system\", \"content\": system_prompt},\n",
    "    {\"role\": \"user\", \"content\": kingdom_prompt},\n",
    "]\n",
    "\n",
    "outputs = pipeline(\n",
    "    messages,\n",
    "    max_new_tokens=256,\n",
    ")"
   ]
  },
  {
   "cell_type": "code",
   "execution_count": null,
   "metadata": {},
   "outputs": [],
   "source": [
    "kingdoms = {}\n",
    "kingdoms_output = outputs[0][\"generated_text\"][-1]\n",
    "kingdoms_output = kingdoms_output['content']\n",
    "\n",
    "for output in kingdoms_output.split('\\n\\n'):\n",
    "  kingdom_name = output.strip().split('\\n')[0] \\\n",
    "    .split('Name: ')[1].strip()\n",
    "  print(f'Created kingdom \"{kingdom_name}\" in {world[\"name\"]}')\n",
    "  kingdom_description = output.strip().split('\\n')[1] \\\n",
    "    .split('Description: ')[1].strip()\n",
    "  kingdom = {\n",
    "      \"name\": kingdom_name,\n",
    "      \"description\": kingdom_description,\n",
    "      \"world\": world['name']\n",
    "  }\n",
    "  kingdoms[kingdom_name] = kingdom\n",
    "world['kingdoms'] = kingdoms\n",
    "\n",
    "print(f'\\nKingdom 1 Description: \\\n",
    "{kingdom[\"description\"]}')"
   ]
  },
  {
   "cell_type": "markdown",
   "metadata": {},
   "source": [
    "### Generating Towns"
   ]
  },
  {
   "cell_type": "code",
   "execution_count": 34,
   "metadata": {},
   "outputs": [],
   "source": [
    "def get_town_prompt(world, kingdom):\n",
    "    return f\"\"\"\n",
    "    Create 2 different towns for a fantasy kingdom abd world. \\\n",
    "    Describe the region it's in, important places of the town, \\\n",
    "    and interesting history about it. \\\n",
    "    \n",
    "    Output content in the form:\n",
    "    Town 1 Name: <TOWN NAME>\n",
    "    Town 1 Description: <TOWN DESCRIPTION>\n",
    "    Town 2 Name: <TOWN NAME>\n",
    "    Town 2 Description: <TOWN DESCRIPTION>\n",
    "    \n",
    "    World Name: {world['name']}\n",
    "    World Description: {world['description']}\n",
    "    \n",
    "    Kingdom Name: {kingdom['name']}\n",
    "    Kingdom Description {kingdom['description']}\n",
    "    \n",
    "    Town 1 Name:\"\"\""
   ]
  },
  {
   "cell_type": "code",
   "execution_count": null,
   "metadata": {},
   "outputs": [],
   "source": [
    "import torch\n",
    "import gc\n",
    "\n",
    "# After each generation step\n",
    "torch.cuda.empty_cache()\n",
    "gc.collect()\n"
   ]
  },
  {
   "cell_type": "code",
   "execution_count": 36,
   "metadata": {},
   "outputs": [],
   "source": [
    "def create_towns(world, kingdom):\n",
    "    print(f'\\nCreating towns for kingdom: {kingdom[\"name\"]}...')\n",
    "    \n",
    "    messages = [\n",
    "        {\"role\": \"system\", \"content\": system_prompt},\n",
    "        {\"role\": \"user\", \"content\": get_town_prompt(world,kingdom)},\n",
    "    ]\n",
    "\n",
    "    outputs = pipeline(\n",
    "        messages,\n",
    "        max_new_tokens=256,\n",
    "    )\n",
    "    \n",
    "    towns_output = outputs[0][\"generated_text\"][-1]\n",
    "    towns_output = towns_output['content']\n",
    "    \n",
    "    towns = {}\n",
    "    for output in towns_output.split('\\n\\n')[:2]:\n",
    "        town_name = output.strip().split('\\n')[0]\\\n",
    "        .split('Name: ')[1].strip()\n",
    "        print(f'- {town_name} created')\n",
    "        \n",
    "        town_description = output.strip().split('\\n')[1]\\\n",
    "        .split('Description: ')[1].strip()\n",
    "        \n",
    "        town = {\n",
    "          \"name\": town_name,\n",
    "          \"description\": town_description,\n",
    "          \"world\": world['name'],\n",
    "          \"kingdom\": kingdom['name']\n",
    "        }\n",
    "        towns[town_name] = town\n",
    "    kingdom[\"towns\"] = towns"
   ]
  },
  {
   "cell_type": "code",
   "execution_count": null,
   "metadata": {},
   "outputs": [],
   "source": [
    "for kingdom in kingdoms.values():\n",
    "    create_towns(world, kingdom)  \n",
    "\n",
    "town = list(kingdom['towns'].values())[0]\n",
    "print(f'\\nTown 1 Description: \\\n",
    "{town[\"description\"]}')"
   ]
  },
  {
   "cell_type": "markdown",
   "metadata": {},
   "source": [
    "### Generating Non-Player Characters (NPC's)"
   ]
  },
  {
   "cell_type": "code",
   "execution_count": 64,
   "metadata": {},
   "outputs": [],
   "source": [
    "def get_npc_prompt(world, kingdom, town): \n",
    "    return f\"\"\"\n",
    "    Create exactly 2 different characters based on the world, kingdom \\\n",
    "    and town they're in. Describe the character's appearance and \\\n",
    "    profession, as well as their deeper pains and desires. \\\n",
    "    \n",
    "    Output content in the form:\n",
    "    Character 1 Name: <CHARACTER NAME>\n",
    "    Character 1 Description: <CHARACTER DESCRIPTION>\n",
    "    Character 2 Name: <CHARACTER NAME>\n",
    "    Character 2 Description: <CHARACTER DESCRIPTION>\n",
    "    \n",
    "    World Name: {world['name']}\n",
    "    World Description: {world['description']}\n",
    "    \n",
    "    Kingdom Name: {kingdom['name']}\n",
    "    Kingdom Description: {kingdom['description']}\n",
    "    \n",
    "    Town Name: {town['name']}\n",
    "    Town Description: {town['description']}\n",
    "    \n",
    "    Character 1 Name:\"\"\""
   ]
  },
  {
   "cell_type": "code",
   "execution_count": null,
   "metadata": {},
   "outputs": [],
   "source": [
    "import torch\n",
    "import gc\n",
    "\n",
    "# After each generation step\n",
    "torch.cuda.empty_cache()\n",
    "gc.collect()\n"
   ]
  },
  {
   "cell_type": "code",
   "execution_count": 66,
   "metadata": {},
   "outputs": [],
   "source": [
    "def create_npcs(world, kingdom, town):\n",
    "    print(f'\\nCreating characters for the town of: {town[\"name\"]}...')\n",
    "    \n",
    "    messages = [\n",
    "        {\"role\": \"system\", \"content\": system_prompt},\n",
    "        {\"role\": \"user\", \"content\": get_npc_prompt(world,kingdom,town)},\n",
    "    ]\n",
    "\n",
    "    outputs = pipeline(\n",
    "        messages,\n",
    "        max_new_tokens=256,\n",
    "        temperature = 1,\n",
    "    )\n",
    "\n",
    "    npcs_output = outputs[0][\"generated_text\"][-1]\n",
    "    npcs_output = npcs_output['content']\n",
    "    \n",
    "    \n",
    "    npcs = {}\n",
    "    for output in npcs_output.split('\\n\\n')[:2]:\n",
    "        npc_name = output.strip().split('\\n')[0]\\\n",
    "        .split('Name: ')[1].strip()\n",
    "        print(f'- \"{npc_name}\" created')\n",
    "        \n",
    "        npc_description = output.strip().split('\\n')[1\\\n",
    "        ].split('Description: ')[1].strip()\n",
    "        \n",
    "        npc = {\n",
    "        \"name\": npc_name,\n",
    "        \"description\": npc_description,\n",
    "        \"world\": world['name'],\n",
    "        \"kingdom\": kingdom['name'],\n",
    "        \"town\": town['name']\n",
    "        }\n",
    "        npcs[npc_name] = npc\n",
    "    town[\"npcs\"] = npcs"
   ]
  },
  {
   "cell_type": "code",
   "execution_count": null,
   "metadata": {},
   "outputs": [],
   "source": [
    "for kingdom in kingdoms.values():\n",
    "    for town in kingdom['towns'].values():\n",
    "        create_npcs(world, kingdom, town)\n",
    "  # For now we'll only generate npcs for one kingdom\n",
    "    break"
   ]
  },
  {
   "cell_type": "code",
   "execution_count": null,
   "metadata": {},
   "outputs": [],
   "source": [
    "npc = list(town['npcs'].values())[0]\n",
    "\n",
    "print(f'\\nNPC 1 in {town[\"name\"]}, \\\n",
    "{kingdom[\"name\"]}:\\n{npc[\"description\"]}')"
   ]
  },
  {
   "cell_type": "markdown",
   "metadata": {},
   "source": [
    "### Saving World"
   ]
  },
  {
   "cell_type": "code",
   "execution_count": 69,
   "metadata": {},
   "outputs": [],
   "source": [
    "import json\n",
    "\n",
    "def save_world(world, filename):\n",
    "    with open(filename, 'w') as f:\n",
    "        json.dump(world, f)\n",
    "\n",
    "def load_world(filename):\n",
    "    with open(filename, 'r') as f:\n",
    "        return json.load(f)\n",
    "\n",
    "#save_world(world, '../shared_data/Kyropeia.json')\n",
    "save_world(world, r\"C:\\Users\\arnav\\OneDrive\\Desktop\\ai_powered_dm\\shared_data\\Kyrethys.json\") #save to your version"
   ]
  }
 ],
 "metadata": {
  "kernelspec": {
   "display_name": "Python 3",
   "language": "python",
   "name": "python3"
  },
  "language_info": {
   "codemirror_mode": {
    "name": "ipython",
    "version": 3
   },
   "file_extension": ".py",
   "mimetype": "text/x-python",
   "name": "python",
   "nbconvert_exporter": "python",
   "pygments_lexer": "ipython3",
   "version": "3.11.4"
  }
 },
 "nbformat": 4,
 "nbformat_minor": 2
}
