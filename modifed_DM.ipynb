{
 "cells": [
  {
   "cell_type": "markdown",
   "metadata": {},
   "source": [
    "### Importing Libraries and Loading Model\n"
   ]
  },
  {
   "cell_type": "code",
   "execution_count": 88,
   "metadata": {},
   "outputs": [],
   "source": [
    "import random\n",
    "import torch\n",
    "from transformers import GPT2LMHeadModel, GPT2Tokenizer\n",
    "\n",
    "# Load the fine-tuned tokenizer and model\n",
    "model_name = 'gpt2-large'\n",
    "tokenizer = GPT2Tokenizer.from_pretrained(model_name)\n",
    "model = GPT2LMHeadModel.from_pretrained(model_name)\n",
    "\n",
    "# Set padding token to EOS\n",
    "tokenizer.pad_token = tokenizer.eos_token\n",
    "\n"
   ]
  },
  {
   "cell_type": "markdown",
   "metadata": {},
   "source": [
    "### Character Stats Generation"
   ]
  },
  {
   "cell_type": "code",
   "execution_count": 89,
   "metadata": {},
   "outputs": [],
   "source": [
    "# Function to roll 4d6 and drop the lowest\n",
    "def roll_stat():\n",
    "    rolls = [random.randint(1, 6) for _ in range(4)]\n",
    "    rolls.remove(min(rolls))\n",
    "    return sum(rolls)\n",
    "\n",
    "# Function to generate stats with race and class bonuses\n",
    "def generate_stats(race, char_class):\n",
    "    stats = {\n",
    "        \"strength\": roll_stat(),\n",
    "        \"dexterity\": roll_stat(),\n",
    "        \"constitution\": roll_stat(),\n",
    "        \"intelligence\": roll_stat(),\n",
    "        \"wisdom\": roll_stat(),\n",
    "        \"charisma\": roll_stat(),\n",
    "    }\n",
    "\n",
    "    # Hardcoded race modifiers\n",
    "    race_modifiers = {\n",
    "        \"Elf\": {\"dexterity\": 2, \"wisdom\": 1},\n",
    "        \"Dwarf\": {\"constitution\": 2, \"wisdom\": 1},\n",
    "        \"Human\": {\"strength\": 1, \"dexterity\": 1, \"constitution\": 1, \"intelligence\": 1, \"wisdom\": 1, \"charisma\": 1},\n",
    "        \"Halfling\": {\"dexterity\": 2, \"charisma\": 1},\n",
    "        \"Dragonborn\": {\"strength\": 2, \"charisma\": 1},\n",
    "        \"Tiefling\": {\"intelligence\": 1, \"charisma\": 2},\n",
    "        \"Gnome\": {\"intelligence\": 2, \"dexterity\": 1},\n",
    "        \"Half-Elf\": {\"dexterity\": 1, \"charisma\": 2},\n",
    "        \"Half-Orc\": {\"strength\": 2, \"constitution\": 1},\n",
    "        \"Tabaxi\": {\"dexterity\": 2, \"charisma\": 1},\n",
    "        \"Aasimar\": {\"charisma\": 2, \"wisdom\": 1},\n",
    "        \"Goliath\": {\"strength\": 2, \"constitution\": 1},\n",
    "    }\n",
    "\n",
    "    # Hardcoded class stat preferences\n",
    "    class_stat_priorities = {\n",
    "        \"Wizard\": {\"intelligence\": 2},\n",
    "        \"Fighter\": {\"strength\": 2, \"constitution\": 1},\n",
    "        \"Rogue\": {\"dexterity\": 2, \"charisma\": 1},\n",
    "        \"Cleric\": {\"wisdom\": 2, \"charisma\": 1},\n",
    "        \"Paladin\": {\"strength\": 2, \"charisma\": 1},\n",
    "        \"Ranger\": {\"dexterity\": 2, \"wisdom\": 1},\n",
    "        \"Bard\": {\"charisma\": 2, \"dexterity\": 1},\n",
    "        \"Warlock\": {\"charisma\": 2, \"intelligence\": 1},\n",
    "        \"Monk\": {\"dexterity\": 2, \"wisdom\": 1},\n",
    "        \"Barbarian\": {\"strength\": 2, \"constitution\": 1},\n",
    "        \"Druid\": {\"wisdom\": 2, \"intelligence\": 1},\n",
    "    }\n",
    "\n",
    "    # Apply race modifiers\n",
    "    if race in race_modifiers:\n",
    "        for stat, bonus in race_modifiers[race].items():\n",
    "            stats[stat] += bonus\n",
    "\n",
    "    # Apply class stat preferences\n",
    "    if char_class in class_stat_priorities:\n",
    "        for stat, bonus in class_stat_priorities[char_class].items():\n",
    "            stats[stat] += bonus\n",
    "\n",
    "    return stats\n"
   ]
  },
  {
   "cell_type": "markdown",
   "metadata": {},
   "source": [
    "### Character Creation"
   ]
  },
  {
   "cell_type": "code",
   "execution_count": 90,
   "metadata": {},
   "outputs": [],
   "source": [
    "def create_character():\n",
    "    # Display available options\n",
    "    races = [\"Elf\", \"Dwarf\", \"Human\", \"Halfling\", \"Dragonborn\", \"Tiefling\", \"Gnome\", \"Half-Elf\", \"Half-Orc\", \"Tabaxi\", \"Aasimar\", \"Goliath\"]\n",
    "    classes = [\"Wizard\", \"Fighter\", \"Rogue\", \"Cleric\", \"Paladin\", \"Ranger\", \"Bard\", \"Warlock\", \"Monk\", \"Barbarian\", \"Druid\"]\n",
    "    alignments = [\"Lawful Good\", \"Neutral Good\", \"Chaotic Good\", \"Lawful Neutral\", \"True Neutral\", \"Chaotic Neutral\", \"Lawful Evil\", \"Neutral Evil\", \"Chaotic Evil\"]\n",
    "\n",
    "    print(\"Available Races:\", \", \".join(races))\n",
    "    race = input(\"Choose your race: \")\n",
    "\n",
    "    print(\"\\nAvailable Classes:\", \", \".join(classes))\n",
    "    char_class = input(\"Choose your class: \")\n",
    "\n",
    "    print(\"\\nAvailable Alignments:\", \", \".join(alignments))\n",
    "    alignment = input(\"Choose your alignment: \")\n",
    "\n",
    "    name = input(\"\\nEnter your character's name: \")\n",
    "    backstory = input(\"\\nWrite your character's backstory: \")\n",
    "\n",
    "    print(\"\\nDescribe your character's appearance (height, build, eye color, hair color, distinguishing features):\")\n",
    "    appearance = input(\"Appearance: \")\n",
    "\n",
    "    stats = generate_stats(race, char_class)\n",
    "\n",
    "    character = {\n",
    "        \"name\": name,\n",
    "        \"race\": race,\n",
    "        \"class\": char_class,\n",
    "        \"alignment\": alignment,\n",
    "        \"backstory\": backstory,\n",
    "        \"appearance\": appearance,\n",
    "        \"stats\": stats,\n",
    "    }\n",
    "\n",
    "    print(\"\\nCharacter Details:\")\n",
    "    print(f\"Name: {character['name']}\")\n",
    "    print(f\"Race: {character['race']}\")\n",
    "    print(f\"Class: {character['class']}\")\n",
    "    print(f\"Alignment: {character['alignment']}\")\n",
    "    print(f\"Backstory: {character['backstory']}\")\n",
    "    print(f\"Appearance: {character['appearance']}\")\n",
    "    print(f\"Stats: {character['stats']}\")\n",
    "\n",
    "    return character\n",
    "\n"
   ]
  },
  {
   "cell_type": "markdown",
   "metadata": {},
   "source": [
    "### Extracting Details From Backstory"
   ]
  },
  {
   "cell_type": "code",
   "execution_count": 91,
   "metadata": {},
   "outputs": [],
   "source": [
    "import spacy\n",
    "nlp = spacy.load(\"en_core_web_sm\") \n",
    "\n",
    "def extract_details_from_backstory(backstory):\n",
    "    doc = nlp(backstory)\n",
    "    details = {\"locations\": [], \"objects\": [], \"themes\": []}\n",
    "\n",
    "    for ent in doc.ents:\n",
    "        if ent.label_ in [\"GPE\", \"LOC\"]:  # Geographic locations or specific settings\n",
    "            details[\"locations\"].append(ent.text)\n",
    "        elif ent.label_ in [\"NORP\", \"ORG\", \"EVENT\", \"OBJECT\"]:  # Objects, events, or groups\n",
    "            details[\"objects\"].append(ent.text)\n",
    "            \n",
    "    for token in doc:\n",
    "        if token.pos_ == \"NOUN\" and token.text.lower() not in details[\"objects\"]:\n",
    "            details[\"objects\"].append(token.text)\n",
    "    \n",
    "\n",
    "    return details\n"
   ]
  },
  {
   "cell_type": "markdown",
   "metadata": {},
   "source": [
    "### Reconstructing Prompt From Extracted Details"
   ]
  },
  {
   "cell_type": "code",
   "execution_count": 92,
   "metadata": {},
   "outputs": [],
   "source": [
    "def construct_prompt_from_backstory(backstory, extracted_details):\n",
    "    prompt = f\"{backstory}\\n\"\n",
    "    \n",
    "    if extracted_details[\"locations\"]:\n",
    "        prompt += \"The setting takes place in: \" + \", \".join(extracted_details[\"locations\"]) + \". \"\n",
    "    if extracted_details[\"objects\"]:\n",
    "        prompt += \"Key elements in the setting include: \" + \", \".join(extracted_details[\"objects\"]) + \". \"\n",
    "\n",
    "    prompt += \"\\nDescribe this setting in vivid detail:\"\n",
    "    return prompt\n"
   ]
  },
  {
   "cell_type": "markdown",
   "metadata": {},
   "source": [
    "### Setting Generation"
   ]
  },
  {
   "cell_type": "code",
   "execution_count": 93,
   "metadata": {},
   "outputs": [],
   "source": [
    "def generate_dynamic_setting(character):\n",
    "    prompt = (\n",
    "        f\"{character['name']} is a {character['alignment']} {character['race']} {character['class']}. \"\n",
    "        f\"{character['name']} Backstory: {character['backstory']}. \"\n",
    "        f\"{character['name']} attributes include - Strength: {character['stats']['strength']}, Dexterity: {character['stats']['dexterity']}, \"\n",
    "        f\"Constitution: {character['stats']['constitution']}, Intelligence: {character['stats']['intelligence']}, \"\n",
    "        f\"Wisdom: {character['stats']['wisdom']}, Charisma: {character['stats']['charisma']}.\\n\\n\"\n",
    "        \"Setting description:\"\n",
    "    )\n",
    "\n",
    "    # Tokenize the prompt\n",
    "    inputs = tokenizer(prompt, return_tensors=\"pt\", padding=True, truncation=True, max_length=1024)\n",
    "    attention_mask = inputs[\"input_ids\"] != tokenizer.pad_token_id\n",
    "\n",
    "    # Generate setting with the language model\n",
    "    outputs = model.generate(\n",
    "        inputs[\"input_ids\"],\n",
    "        attention_mask=attention_mask,\n",
    "        max_new_tokens=250,\n",
    "        temperature=0.7,\n",
    "        top_k=50,\n",
    "        top_p=0.9,\n",
    "        do_sample=True,\n",
    "        repetition_penalty=1.2,\n",
    "        pad_token_id=tokenizer.eos_token_id,\n",
    "        eos_token_id=tokenizer.eos_token_id\n",
    "    )\n",
    "\n",
    "    # Decode and return the generated setting\n",
    "    setting = tokenizer.decode(outputs[0], skip_special_tokens=True).strip()\n",
    "    return setting\n",
    "\n"
   ]
  },
  {
   "cell_type": "markdown",
   "metadata": {},
   "source": [
    "### Initiating Adventure with Character and Setting"
   ]
  },
  {
   "cell_type": "code",
   "execution_count": 94,
   "metadata": {},
   "outputs": [],
   "source": [
    "def start_game_narration(setting, character):\n",
    "    prompt = (\n",
    "        f\"The adventure begins in the setting:\\n\\n\"\n",
    "        f\"{character['name']} is a {character['alignment']} {character['race']} {character['class']}. \"\n",
    "        f\"{character['name']} now finds themselves at the center of unfolding events and prepares for what comes next\\n\\n\"\n",
    "        f\"Dungeon Master: As {character['name']} steps into the unknown, the story begins. What will {character['name']} do?\"\n",
    "    )\n",
    "    print(prompt)\n"
   ]
  },
  {
   "cell_type": "markdown",
   "metadata": {},
   "source": [
    "### Game Setup"
   ]
  },
  {
   "cell_type": "code",
   "execution_count": 95,
   "metadata": {},
   "outputs": [
    {
     "name": "stdout",
     "output_type": "stream",
     "text": [
      "Available Races: Elf, Dwarf, Human, Halfling, Dragonborn, Tiefling, Gnome, Half-Elf, Half-Orc, Tabaxi, Aasimar, Goliath\n",
      "\n",
      "Available Classes: Wizard, Fighter, Rogue, Cleric, Paladin, Ranger, Bard, Warlock, Monk, Barbarian, Druid\n",
      "\n",
      "Available Alignments: Lawful Good, Neutral Good, Chaotic Good, Lawful Neutral, True Neutral, Chaotic Neutral, Lawful Evil, Neutral Evil, Chaotic Evil\n",
      "\n",
      "Describe your character's appearance (height, build, eye color, hair color, distinguishing features):\n",
      "\n",
      "Character Details:\n",
      "Name: Scorio\n",
      "Race: Human\n",
      "Class: Fighter\n",
      "Alignment: Lawful Good\n",
      "Backstory: Scorio was once known as the lord of Nagaran. He was the king of Runeterra. He was a just king and the people loved him\n",
      "Appearance: tall, dark and handsome\n",
      "Stats: {'strength': 11, 'dexterity': 12, 'constitution': 15, 'intelligence': 14, 'wisdom': 17, 'charisma': 16}\n",
      "{'locations': ['Nagaran'], 'objects': ['king', 'people'], 'themes': []}\n",
      "\n",
      "Dungeon Master: Here is your setting\n",
      "\n",
      "The world of Runeterra is in chaos after the death of its king. It has been ruled by two rulers since then; one from Runeterra's east and one from Runeterra's west. One person believes that they are responsible for the turmoil, but the other believes that it is the work of the demon Noxus. Both believe that the king's daughter, Shurima, should rule. The ruler of Nagarand has also decided to try and take over Runeterra. There have been many wars between the two rulers. A small band of heroes who have come together to help each other fight the evils plaguing their kingdom and save their people from being lost forever. They are the Heroes of Justice. (Sic)\n",
      "\n",
      "The Setting is a fantasy setting with some fantasy elements. This setting is a mixture of fantasy settings and sci-fi settings.\n",
      "\n",
      "The game begins...\n",
      "\n",
      "The adventure begins in the setting:\n",
      "\n",
      "Scorio is a Lawful Good Human Fighter. Scorio now finds themselves at the center of unfolding events and prepares for what comes next\n",
      "\n",
      "Dungeon Master: As Scorio steps into the unknown, the story begins. What will Scorio do?\n"
     ]
    }
   ],
   "source": [
    "# Create a character and generate a setting\n",
    "character = create_character()\n",
    "extracted_details = extract_details_from_backstory(character['backstory'])\n",
    "print(extracted_details)\n",
    "character['backstory'] = construct_prompt_from_backstory(character['backstory'],extracted_details)\n",
    "\n",
    "setting = generate_dynamic_setting(character)\n",
    "\n",
    "# Split the prompt into two parts: before and after \"Setting description:\"\n",
    "parts = setting.split(\"Setting description:\")\n",
    "character_info = parts[0].strip()\n",
    "setting_description = parts[1].strip() if len(parts) > 1 else \"\"\n",
    "\n",
    "\n",
    "# Dungeon Master's introduction and start of the game\n",
    "print(\"\\nDungeon Master: Here is your setting\\n\")\n",
    "print(setting_description)\n",
    "print(\"\\nThe game begins...\\n\")\n",
    "start_game_narration(setting, character)"
   ]
  }
 ],
 "metadata": {
  "kernelspec": {
   "display_name": "Python 3",
   "language": "python",
   "name": "python3"
  },
  "language_info": {
   "codemirror_mode": {
    "name": "ipython",
    "version": 3
   },
   "file_extension": ".py",
   "mimetype": "text/x-python",
   "name": "python",
   "nbconvert_exporter": "python",
   "pygments_lexer": "ipython3",
   "version": "3.11.4"
  }
 },
 "nbformat": 4,
 "nbformat_minor": 2
}
